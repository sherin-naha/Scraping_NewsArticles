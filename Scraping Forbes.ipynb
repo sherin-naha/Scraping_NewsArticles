{
 "cells": [
  {
   "cell_type": "code",
   "execution_count": 1,
   "metadata": {},
   "outputs": [],
   "source": [
    "import csv\n",
    "from bs4 import BeautifulSoup\n",
    "import requests\n",
    "import pandas as pd\n",
    "import csv\n",
    "import re"
   ]
  },
  {
   "cell_type": "code",
   "execution_count": 2,
   "metadata": {},
   "outputs": [],
   "source": [
    "#base_url='https://www.bbc.com/'\n",
    "url='https://www.forbes.com/search/?q=climate%20change#6a6d0973279f'\n",
    "r1 = requests.get(url)\n",
    "coverpage = r1.content"
   ]
  },
  {
   "cell_type": "code",
   "execution_count": 37,
   "metadata": {},
   "outputs": [],
   "source": [
    "#for a specific article\n",
    "url='https://www.forbes.com/sites/frankvangansbeke/2020/07/31/climate-change-and-debt-capital-allocation/#649adbf34754'\n",
    "r1 = requests.get(url)\n",
    "coverpage = r1.content"
   ]
  },
  {
   "cell_type": "code",
   "execution_count": 38,
   "metadata": {},
   "outputs": [],
   "source": [
    "soup1 = BeautifulSoup(coverpage, 'html5lib')"
   ]
  },
  {
   "cell_type": "code",
   "execution_count": 4,
   "metadata": {},
   "outputs": [
    {
     "data": {
      "text/plain": [
       "20"
      ]
     },
     "execution_count": 4,
     "metadata": {},
     "output_type": "execute_result"
    }
   ],
   "source": [
    "#coverpage_news = soup1.find_all('div', { 'class': 'gs-o-media__body'})\n",
    "coverpage_news = soup1.find_all('article')\n",
    "len(coverpage_news)"
   ]
  },
  {
   "cell_type": "code",
   "execution_count": 54,
   "metadata": {},
   "outputs": [
    {
     "data": {
      "text/plain": [
       "'In a study commissioned by The Guardian, Richard Heede at the\\xa0Climate Accountability Institute\\xa0in the US\\xa0identified 20 fossil fuel companies that were responsible for 35% of all energy-related carbon dioxide and methane releases worldwide, totaling\\xa0480 billion tons of carbon dioxide\\xa0equivalent since 1965. Gas is flared off from an oil facility near Yasuni National Park in Orellana Province, EcuadorAmong the listed contributors are firms such as\\xa0Exxon, BP and Shell – as well as state-owned companies including Saudi Aramco and Gazprom. Combined, the first\\xa0four global businesses are behind more than 10% of the world’s carbon emissions. Since 2015, the year the Paris Climate accord was signed, financial institutions worldwide availed $2.7 trillion in bank loans to the fossil fuel industry. Yet only three firms in the S&P500 produce renewable energy, representing less than 1% of the S&P500 market cap.Is there a solution to this distorted and eco-system threatening cycle? Could things be done differently in 2020?One way would be to revisit the bank loan and debt capital allocation practices and reshape them in the following way.When Saudi Aramco tapped the debt capital markets in April 2019, it attempted to raise $12 billion in five different maturities ranging from three to thirty years in tenor. At closing, the order book was more than 8x oversubscribed. Eventually, the company successfully secured proceeds at cost of funds just below what the Saudi Arabian Government could have achieved. The traditional process of bond pricing, run by broker dealers, starts from a risk-free interest rate level, most often referenced to the relevant sovereign bond benchmark interest rate. A credit spread, reflecting both idiosyncratic characteristics of the issuer, such as earnings performance track record, existing leverage and interest coverage level, along with market related features such as yield curve structure, inflation expectations, overall market issuance and peer activity are added to the base interest level. Under no circumstances does the current pricing methodology attempt to capture the external cost of the carbon footprint. As such, both the environment and the natural capital base, of clean air, water and soil, are mortgaged and eroded for generations to come.A solution could be to introduce a flat carbon fee, for example 1%, derived from a dynamic pricing matrix calibrating fee levels against observed levels of CO2 ppm. On July 30, there was a reading of 413.9 ppm /CO2. The fee level could be increased as observations increase. The fee would be payable by the issuer over and above the traditional coupon of any bond issue and/or credit margin of any bank loan. To frustrate arbitrage between non-fee levying jurisdictions, a carbon fee could be imposed on the $ rate paying leg of the cross currency swap. \\xa0The carbon fee would be set and levied by an independent third party authority, like a Carbon Management Office, and would not be pocketed by the investor and/or the bank. In turn the Carbon Management Office would redeploy the fee proceeds to foster and scale renewable (VC) energy initiatives. It could co-invest along Microsoft’s and Amazon’s climate pledge funds for example. The fee could be mitigated by nimble issuer carbon footprint behavior, exemplified by the disclosures submitted to Carbon Disclosure Project (CDP) and TCFD (Climate Stress Test related Financial Disclosure). A rating and distribution ranking, based on disclosures provided to CDP and TCFD, could be established for all issuers. A top quartile ranking, for example from a renewable energy company, \\xa0could see the fee abated by the full 1%, while a bottom quartile position would leave the fee untouched. \\xa0In this manner, global issuers and fossil fuel companies alike may be incentivized to start addressing their hidden carbon footprint cost and tackling their cost of funds impediment. Increased benchmark hurdle rates would substantially lift the threshold for gauging the financial viability of future exploration and/or investment projects.All in all, a modified bank loan and debt capital allocation process could hit four birds with one stone: internalize the carbon cost in a flawed capital allocation model, keep more fossil fuel in the soil (due to increased hurdle rate), spur much needed risk capital allocation into renewable energy initiatives (and the S&P500), and leave a hopeful future for our children and generations to come, all in an efficient market compliant manner.I acquired more than 30 years of global Senior Executive experience within the Corporate Finance and Capital Markets fields at Fortis and BNPP. During this period, I gotI acquired more than 30 years of global Senior Executive experience within the Corporate Finance and Capital Markets fields at Fortis and BNPP. During this period, I got involved in the S&P 500 Assurant IPO (2003), contributed to the Fortis-financing of the largest banking acquisition to date of ABN-AMRO (Euro 72 Billion), and acquired front row crisis negotiation with global central banks during 2008 (Group Treasurer Fortis) and 2012 Euro crisis at BNPP in Paris.At Middlebury College, I teach as Professor of the Practice “Capital Markets”, “Investments” and “Introduction to Finance”. I mentor at our entrepreneurial program and act as faculty advisor to Women on Wall Street and Student Investment Committee. In 2019, the overall advisory contributions were awarded with a Student Advisor Award.I board advise early stage companies and NGOs on the nexus of Sustainable Development and Fintech. In 2020, I co-established the Sustainable Finance Unconference series, a quarterly platform where prominent Sustainable Finance peers present their recent contributions in the space. '"
      ]
     },
     "execution_count": 54,
     "metadata": {},
     "output_type": "execute_result"
    }
   ],
   "source": [
    "text=''\n",
    "for p in soup1.find_all(\"p\"):\n",
    "    text=text+p.text\n",
    "text"
   ]
  },
  {
   "cell_type": "code",
   "execution_count": 41,
   "metadata": {},
   "outputs": [
    {
     "data": {
      "text/plain": [
       "<p>In a study commissioned by The Guardian, Richard Heede at the <a aria-label=\"Climate Accountability Institute\" class=\"color-link\" data-ga-track=\"ExternalLink:http://climateaccountability.org/\" href=\"http://climateaccountability.org/\" rel=\"nofollow noopener noreferrer\" target=\"_blank\" title=\"http://climateaccountability.org/\">Climate Accountability Institute</a> in the US identified 20 fossil fuel companies that were responsible for 35% of all energy-related carbon dioxide and methane releases worldwide, totaling 480 billion tons of carbon dioxide equivalent since 1965. </p>"
      ]
     },
     "execution_count": 41,
     "metadata": {},
     "output_type": "execute_result"
    }
   ],
   "source": [
    "soup1.find('div',class_='article-body-container').find_All('p')"
   ]
  },
  {
   "cell_type": "code",
   "execution_count": 7,
   "metadata": {},
   "outputs": [
    {
     "data": {
      "text/plain": [
       "'Jul 31, 2020'"
      ]
     },
     "execution_count": 7,
     "metadata": {},
     "output_type": "execute_result"
    }
   ],
   "source": [
    "coverpage_news[0].find('div',class_='stream-item__date').text"
   ]
  },
  {
   "cell_type": "code",
   "execution_count": 33,
   "metadata": {},
   "outputs": [
    {
     "data": {
      "text/plain": [
       "'Climate Change And Debt Capital Allocation'"
      ]
     },
     "execution_count": 33,
     "metadata": {},
     "output_type": "execute_result"
    }
   ],
   "source": [
    "coverpage_news[0].find('h2').text"
   ]
  },
  {
   "cell_type": "code",
   "execution_count": 19,
   "metadata": {},
   "outputs": [
    {
     "data": {
      "text/plain": [
       "'https://www.forbes.com/sites/frankvangansbeke/2020/07/31/climate-change-and-debt-capital-allocation/'"
      ]
     },
     "execution_count": 19,
     "metadata": {},
     "output_type": "execute_result"
    }
   ],
   "source": [
    "coverpage_news[0].find('a',class_='stream-item__title')['href']"
   ]
  },
  {
   "cell_type": "code",
   "execution_count": 12,
   "metadata": {},
   "outputs": [
    {
     "data": {
      "text/plain": [
       "'Since the Paris Climate accord, financial institutions worldwide availed $2.7 trillion in bank loans to the fossil fuel industry. Yet only three firms in the S&P500 produce renewable energy, representing less than 1% of S&P500.\\n\\nCould bank loans be allocated in a different manner in 2020?'"
      ]
     },
     "execution_count": 12,
     "metadata": {},
     "output_type": "execute_result"
    }
   ],
   "source": [
    "coverpage_news[0].find('div',class_='stream-item__description').text"
   ]
  },
  {
   "cell_type": "code",
   "execution_count": 18,
   "metadata": {},
   "outputs": [
    {
     "data": {
      "text/plain": [
       "'Frank Van Gansbeke'"
      ]
     },
     "execution_count": 18,
     "metadata": {},
     "output_type": "execute_result"
    }
   ],
   "source": [
    "coverpage_news[0].find('a',class_='byline__author-name').text"
   ]
  },
  {
   "cell_type": "code",
   "execution_count": 31,
   "metadata": {},
   "outputs": [
    {
     "name": "stdout",
     "output_type": "stream",
     "text": [
      "0\n",
      "Climate Change And Debt Capital Allocation\n",
      "1\n",
      "Humans May Not Adapt Well To Climate Change, But Ragweed Sure Does\n",
      "2\n",
      "What Is Climate Change, Explained By Italian Illustrators In 23 Fairy Tales\n",
      "3\n",
      "How Covid-19 And Climate Change Are Making Heat Deadlier For Older Adults\n",
      "4\n",
      "Climate Change: The Ball Is In Our Court\n",
      "5\n",
      "New Tool Allows Investors To See Companies’ Climate Change Impacts At A Glance\n",
      "6\n",
      "On Coronavirus And Climate Change\n",
      "7\n",
      "Apocalypse Soon: Disaster Movies About Climate Change Now Play As Metaphors For Coronavirus\n",
      "8\n",
      "Grape Seeds Show How A Pandemic And Climate Change Contributed To Past Economic Crisis\n",
      "9\n",
      "Rice, Climate Change And A Post-COVID Opportunity For Women In Guyana\n",
      "10\n",
      "BlackRock Heats Up Climate Change Pressure On Boards\n",
      "11\n",
      "In EU's Climate Change Fight, The 2 Trillion Euros Was The Easy Part\n",
      "12\n",
      "Fighting Climate Change Requires A New Capitalism\n",
      "13\n",
      "Major Investors To Fed: Act On Climate Change Or Face ‘Disastrous’ Economic Consequences\n",
      "14\n",
      "‘System Change Not Climate Change’: Capitalism And Environmental Destruction\n",
      "15\n",
      "Polar Bears Could Face Extinction By 2100 Due To Climate Change, Study Says\n",
      "16\n",
      "Most ESG Investing Makes A Charade Of Fighting Climate Change\n",
      "17\n",
      "Which Wealthy Country Is Most Pessimistic On Climate Change?\n",
      "18\n",
      "WeatherSpy Network Launches For Gen Y, Gen Z Viewers With Climate Change On Their Minds\n",
      "19\n",
      "Scientists Dissect The Tactics Of Climate Delayers\n"
     ]
    }
   ],
   "source": [
    "news_title=[]\n",
    "news_links=[]\n",
    "date=[]\n",
    "authors=[]\n",
    "summary=[]\n",
    "for n in coverpage_news:\n",
    "    #title\n",
    "    title=n.find('h2').text\n",
    "    #links\n",
    "    link=n.find('a',class_='stream-item__title')['href']\n",
    "    #date\n",
    "    d=n.find('div',class_='stream-item__date').text\n",
    "    #author\n",
    "    a=n.find('a',class_='byline__author-name').text\n",
    "    #summary\n",
    "    sum=n.find('div',class_='stream-item__description').text\n",
    "    news_title.append(title)\n",
    "    news_links.append(link)\n",
    "    date.append(d)\n",
    "    authors.append(a)\n",
    "    summary.append(sum)\n",
    "    "
   ]
  },
  {
   "cell_type": "code",
   "execution_count": 25,
   "metadata": {},
   "outputs": [],
   "source": [
    "dict = {'headline': news_title, 'url': news_links, 'date': date,\"author\":authors,'summary':summary} \n",
    "df=pd.DataFrame(dict)"
   ]
  },
  {
   "cell_type": "code",
   "execution_count": 27,
   "metadata": {},
   "outputs": [
    {
     "data": {
      "text/html": [
       "<div>\n",
       "<style scoped>\n",
       "    .dataframe tbody tr th:only-of-type {\n",
       "        vertical-align: middle;\n",
       "    }\n",
       "\n",
       "    .dataframe tbody tr th {\n",
       "        vertical-align: top;\n",
       "    }\n",
       "\n",
       "    .dataframe thead th {\n",
       "        text-align: right;\n",
       "    }\n",
       "</style>\n",
       "<table border=\"1\" class=\"dataframe\">\n",
       "  <thead>\n",
       "    <tr style=\"text-align: right;\">\n",
       "      <th></th>\n",
       "      <th>headline</th>\n",
       "      <th>url</th>\n",
       "      <th>date</th>\n",
       "      <th>author</th>\n",
       "      <th>summary</th>\n",
       "    </tr>\n",
       "  </thead>\n",
       "  <tbody>\n",
       "    <tr>\n",
       "      <th>0</th>\n",
       "      <td>Climate Change And Debt Capital Allocation</td>\n",
       "      <td>https://www.forbes.com/sites/frankvangansbeke/...</td>\n",
       "      <td>Jul 31, 2020</td>\n",
       "      <td>Frank Van Gansbeke</td>\n",
       "      <td>Since the Paris Climate accord, financial inst...</td>\n",
       "    </tr>\n",
       "    <tr>\n",
       "      <th>1</th>\n",
       "      <td>Humans May Not Adapt Well To Climate Change, B...</td>\n",
       "      <td>https://www.forbes.com/sites/jeffmcmahon/2020/...</td>\n",
       "      <td>20 hours ago</td>\n",
       "      <td>Jeff McMahon</td>\n",
       "      <td>Common ragweed, that pestilent inflamer of sin...</td>\n",
       "    </tr>\n",
       "    <tr>\n",
       "      <th>2</th>\n",
       "      <td>What Is Climate Change, Explained By Italian I...</td>\n",
       "      <td>https://www.forbes.com/sites/emanuelabarbirogl...</td>\n",
       "      <td>Aug 5, 2020</td>\n",
       "      <td>Emanuela Barbiroglio</td>\n",
       "      <td>Young readers will soon be able to learn the i...</td>\n",
       "    </tr>\n",
       "    <tr>\n",
       "      <th>3</th>\n",
       "      <td>How Covid-19 And Climate Change Are Making Hea...</td>\n",
       "      <td>https://www.forbes.com/sites/nextavenue/2020/0...</td>\n",
       "      <td>Aug 4, 2020</td>\n",
       "      <td>Next Avenue</td>\n",
       "      <td>The one-two punch of heat coupled with high hu...</td>\n",
       "    </tr>\n",
       "    <tr>\n",
       "      <th>4</th>\n",
       "      <td>Climate Change: The Ball Is In Our Court</td>\n",
       "      <td>https://www.forbes.com/sites/erikkobayashisolo...</td>\n",
       "      <td>Jul 24, 2020</td>\n",
       "      <td>Erik Kobayashi-Solomon</td>\n",
       "      <td>Companies only do what we as consumers and inv...</td>\n",
       "    </tr>\n",
       "  </tbody>\n",
       "</table>\n",
       "</div>"
      ],
      "text/plain": [
       "                                            headline  \\\n",
       "0         Climate Change And Debt Capital Allocation   \n",
       "1  Humans May Not Adapt Well To Climate Change, B...   \n",
       "2  What Is Climate Change, Explained By Italian I...   \n",
       "3  How Covid-19 And Climate Change Are Making Hea...   \n",
       "4           Climate Change: The Ball Is In Our Court   \n",
       "\n",
       "                                                 url          date  \\\n",
       "0  https://www.forbes.com/sites/frankvangansbeke/...  Jul 31, 2020   \n",
       "1  https://www.forbes.com/sites/jeffmcmahon/2020/...  20 hours ago   \n",
       "2  https://www.forbes.com/sites/emanuelabarbirogl...   Aug 5, 2020   \n",
       "3  https://www.forbes.com/sites/nextavenue/2020/0...   Aug 4, 2020   \n",
       "4  https://www.forbes.com/sites/erikkobayashisolo...  Jul 24, 2020   \n",
       "\n",
       "                   author                                            summary  \n",
       "0      Frank Van Gansbeke  Since the Paris Climate accord, financial inst...  \n",
       "1            Jeff McMahon  Common ragweed, that pestilent inflamer of sin...  \n",
       "2    Emanuela Barbiroglio  Young readers will soon be able to learn the i...  \n",
       "3             Next Avenue  The one-two punch of heat coupled with high hu...  \n",
       "4  Erik Kobayashi-Solomon  Companies only do what we as consumers and inv...  "
      ]
     },
     "execution_count": 27,
     "metadata": {},
     "output_type": "execute_result"
    }
   ],
   "source": [
    "df.head()"
   ]
  },
  {
   "cell_type": "code",
   "execution_count": null,
   "metadata": {},
   "outputs": [],
   "source": []
  }
 ],
 "metadata": {
  "kernelspec": {
   "display_name": "Python 3",
   "language": "python",
   "name": "python3"
  },
  "language_info": {
   "codemirror_mode": {
    "name": "ipython",
    "version": 3
   },
   "file_extension": ".py",
   "mimetype": "text/x-python",
   "name": "python",
   "nbconvert_exporter": "python",
   "pygments_lexer": "ipython3",
   "version": "3.7.7"
  }
 },
 "nbformat": 4,
 "nbformat_minor": 4
}
